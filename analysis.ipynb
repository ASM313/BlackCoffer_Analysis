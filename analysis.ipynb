{
 "cells": [
  {
   "cell_type": "markdown",
   "metadata": {},
   "source": [
    "# Asslamu alaikum"
   ]
  },
  {
   "cell_type": "markdown",
   "metadata": {},
   "source": [
    " Task 1: Sentiment Analysis\n"
   ]
  },
  {
   "cell_type": "code",
   "execution_count": 165,
   "metadata": {},
   "outputs": [],
   "source": [
    "import os\n",
    "os.chdir(\"G:\\BlackCoffer_Analysis\") # set project folder"
   ]
  },
  {
   "cell_type": "markdown",
   "metadata": {},
   "source": [
    "- Remove stopwords"
   ]
  },
  {
   "cell_type": "code",
   "execution_count": 167,
   "metadata": {},
   "outputs": [],
   "source": [
    "from stopwords import given_stop_words \n",
    "from nltk.tokenize import word_tokenize\n",
    "from crawl import article_text\n"
   ]
  },
  {
   "cell_type": "code",
   "execution_count": 175,
   "metadata": {},
   "outputs": [
    {
     "name": "stdout",
     "output_type": "stream",
     "text": [
      "6736\n",
      "healthcare ai chatbot llama , llm , langchain efficient supply chain assessment : overcoming technical hurdles web application development streamlined integration : interactive brokers api python desktop trading application efficient data integration user-friendly interface development : navigating challenges web application deployment ai chatbot llm , langchain , llama ai bot audio audio methodology etl discovery tool llma , openai , langchain methodology database discovery tool openai , llma , langchain rising cities impact economy , environment , infrastructure , city life year 2040. rising cities impact economy , environment , infrastructure , city life future internet demand ’ evolution , communication impact , 2035 ’ alternative pathways rise cybercrime effect upcoming future ai/ml predictive modeling solution contact centre problems setup custom domain google app engine application ? code review checklist client : leading insurance firm worldwide industry type : bfsi products & services : insurance organization size : 10000+ insurance industry , context providing coverage public company directors insider trading public lawsuits , faces significant challenge accurately determining insurance premiums . traditional methods premium calculation lack precision , growing sophisticated data-driven approaches . integration artificial intelligence ( ai ) machine learning ( ml ) models predicting insurance premiums specialized coverage essential enhance accuracy , fairness , responsiveness adapting evolving risk factors . problem hand involves developing robust ai ml models effectively analyze multitude dynamic variables influencing risk profile public company directors . variables include market conditions , regulatory , historical legal precedents , financial performance insured company , individual directorial behaviors . goal create predictive model accurately assesses risk potential insider trading public lawsuits adapts real-time information , ensuring insurance premiums charged global insurance firm reflective current risk landscape . key challenges : addressing challenges improve accuracy insurance premium predictions contribute efficiency effectiveness insurance services provided public company directors leading global insurance firm . develop ml ai-based insurance premium prediction model public company directors usa , safeguarding insider trading public lawsuits , propose comprehensive solution leveraging advanced machine learning techniques . goal create model accurately assesses risk individual directors adapts dynamic market conditions . adopting ml ai-based approach , insurance company enhance ability predict insurance premiums accurately , adapt changing risk landscapes , provide tailored coverage public company directors insider trading public lawsuits dynamic environment usa . building ml ai-based insurance premium prediction model involves tools technologies stages development . ’ list tools technologies employed creating model leading insurance firm usa , specifically targeting public company directors insider trading public lawsuits : ’ important note choice specific tools vary based preferences data science team , complexity model , existing technology stack insurance company . additionally , compliance regulatory requirements industry standards considered selection tools technologies . deliverables ml ai-based insurance premium model public company directors usa , aiming predict premiums protection insider trading public lawsuits , encompass stages development deployment process . comprehensive list deliverables : 1.1 project proposal : 1.2 requirements document : 2.1 data collection report : 2.2 cleaned preprocessed dataset : 3.1 feature selection engineering report : 4.1 trained ml models : 4.2 model evaluation report : 5.1 real-time integration component : 5.2 scenario analysis module : 6.1 fairness assessment report : 6.2 explainability module : 7.1 deployed api : 7.2 user interface ( ui ) : 7.3 documentation integration : 8.1 monitoring dashboard : 8.2 automated model update pipeline : 9.1 model architecture document : 9.2 technical user manual : 10.1 training sessions : 10.2 knowledge transfer documentation : 11.1 regulatory compliance report : 11.2 data privacy security documentation : 12.1 support maintenance plan : delivering items , insurance firm ensure transparent development process , facilitating successful integration utilization ml ai-based insurance premium prediction model . implementation ml ai-based insurance premium model public company directors usa , specifically tailored protect insider trading public lawsuits , significant business impacts leading insurance firm . potential business impacts : recognizing leveraging business impacts , leading insurance firm derive significant implementation ml ai-based insurance premium model tailored public company directors usa . summarized : https : //blackcoffer.com/ project blackcoffer team , global consulting firm . solution designed developed blackcoffer teamhere contact details : firm : blackcoffer pvt . ltd.firm website : www.blackcoffer.comfirm address : 4/2 , e-extension , shaym vihar phase 1 , delhi 110043email : ajay @ blackcoffer.comskype : asbidyarthywhatsapp : +91 9717367468telegram : @ asbidyarthy provide intelligence , accelerate innovation implement technology extraordinary breadth depth global insights big data , data-driven dashboards , applications development , information management organizations combining unique , specialist services high-lvel human expertise . contact : @ blackcoffer.com © reserved , blackcoffer ( opc ) pvt .\n",
      "5632\n"
     ]
    }
   ],
   "source": [
    "# Sample text\n",
    "text = article_text.lower()\n",
    "print(len(text))\n",
    "# Tokenize the text\n",
    "words = word_tokenize(text)\n",
    "\n",
    "# Remove stopwords\n",
    "filtered_words = [word for word in words if word not in given_stop_words]\n",
    "\n",
    "# Join the words back into a sentence\n",
    "filtered_text = ' '.join(filtered_words)\n",
    "\n",
    "print(filtered_text)\n",
    "print(len(filtered_text))"
   ]
  },
  {
   "cell_type": "markdown",
   "metadata": {},
   "source": [
    "- Creating a dictionary of Positive and Negative words"
   ]
  },
  {
   "cell_type": "code",
   "execution_count": 176,
   "metadata": {},
   "outputs": [],
   "source": [
    "from positive_and_negative import positive_words, negative_words"
   ]
  },
  {
   "cell_type": "code",
   "execution_count": 172,
   "metadata": {},
   "outputs": [
    {
     "name": "stdout",
     "output_type": "stream",
     "text": [
      "Healthcare AI ChatBot using LLAMA, LLM, Langchain Efficient Supply Chain Assessment: Overcoming Technical Hurdles for Web Application Development Streamlined Integration: Interactive Brokers API with Python for Desktop Trading Application Efficient Data Integration and User-Friendly Interface Development: Navigating Challenges in Web Application Deployment AI Chatbot using LLM, Langchain, LLama AI Bot Audio to audio Methodology for ETL Discovery Tool using LLMA, OpenAI, Langchain Methodology for database discovery tool using openai, LLMA, Langchain Rising IT cities and its impact on the economy, environment, infrastructure, and city life by the year 2040. Rising IT Cities and Their Impact on the Economy, Environment, Infrastructure, and City Life in Future Internet Demand’s Evolution, Communication Impact, and 2035’s Alternative Pathways Rise of Cybercrime and its Effect in upcoming Future AI/ML and Predictive Modeling Solution for Contact Centre Problems How to Setup Custom Domain for Google App Engine Application? Code Review Checklist Client: A leading insurance firm worldwide Industry Type: BFSI Products & Services: Insurance Organization Size: 10000+ The insurance industry, particularly in the context of providing coverage to Public Company Directors against Insider Trading public lawsuits, faces a significant challenge in accurately determining insurance premiums. Traditional methods of premium calculation may lack precision, and there is a growing need for more sophisticated and data-driven approaches. The integration of Artificial Intelligence (AI) and Machine Learning (ML) models in predicting insurance premiums for this specialized coverage is essential to enhance accuracy, fairness, and responsiveness in adapting to evolving risk factors. The problem at hand involves developing robust AI and ML models that can effectively analyze a multitude of dynamic variables influencing the risk profile of Public Company Directors. These variables include market conditions, regulatory changes, historical legal precedents, financial performance of the insured company, and individual directorial behaviors. The goal is to create a predictive model that not only accurately assesses the risk associated with potential insider trading public lawsuits but also adapts in real-time to new information, ensuring that the insurance premiums charged by the global insurance firm are reflective of the current risk landscape. Key Challenges: Addressing these challenges will not only improve the accuracy of insurance premium predictions but also contribute to the overall efficiency and effectiveness of the insurance services provided to Public Company Directors by the leading global insurance firm. To develop an ML and AI-based insurance premium prediction model for Public Company Directors in the USA, safeguarding them against insider trading public lawsuits, we propose a comprehensive solution leveraging advanced machine learning techniques. The goal is to create a model that accurately assesses the risk associated with individual directors and adapts to dynamic market conditions. By adopting this ML and AI-based approach, the insurance company can enhance its ability to predict insurance premiums accurately, adapt to changing risk landscapes, and provide tailored coverage for Public Company Directors against insider trading public lawsuits in the dynamic environment of the USA.   Building an ML and AI-based insurance premium prediction model involves the use of various tools and technologies across different stages of development. Here’s a list of tools and technologies that can be employed for creating such a model for a leading insurance firm in the USA, specifically targeting Public Company Directors against insider trading public lawsuits: It’s important to note that the choice of specific tools may vary based on the preferences of the data science team, the complexity of the model, and the existing technology stack of the insurance company. Additionally, compliance with regulatory requirements and industry standards should be considered in the selection of tools and technologies. The deliverables for an ML and AI-based insurance premium model for Public Company Directors in the USA, aiming to predict premiums for protection against insider trading public lawsuits, would encompass various stages of the development and deployment process. Here is a comprehensive list of deliverables: 1.1 Project Proposal: 1.2 Requirements Document: 2.1 Data Collection Report: 2.2 Cleaned and Preprocessed Dataset: 3.1 Feature Selection and Engineering Report: 4.1 Trained ML Models: 4.2 Model Evaluation Report: 5.1 Real-Time Integration Component: 5.2 Scenario Analysis Module: 6.1 Fairness Assessment Report: 6.2 Explainability Module: 7.1 Deployed API: 7.2 User Interface (UI): 7.3 Documentation for Integration: 8.1 Monitoring Dashboard: 8.2 Automated Model Update Pipeline: 9.1 Model Architecture Document: 9.2 Technical User Manual: 10.1 Training Sessions: 10.2 Knowledge Transfer Documentation: 11.1 Regulatory Compliance Report: 11.2 Data Privacy and Security Documentation: 12.1 Support and Maintenance Plan: By delivering these items, the insurance firm can ensure a thorough and transparent development process, facilitating successful integration and utilization of the ML and AI-based insurance premium prediction model. The implementation of an ML and AI-based insurance premium model for Public Company Directors in the USA, specifically tailored to protect them from insider trading public lawsuits, can have significant business impacts for the leading insurance firm. Here are several potential business impacts: By recognizing and leveraging these business impacts, the leading insurance firm can derive significant value from the implementation of an ML and AI-based insurance premium model tailored for Public Company Directors in the USA.  Summarized: https://blackcoffer.com/ This project was done by Blackcoffer Team, a Global IT Consulting firm.  This solution was designed and developed by Blackcoffer TeamHere are my contact details:Firm Name: Blackcoffer Pvt. Ltd.Firm Website: www.blackcoffer.comFirm Address: 4/2, E-Extension, Shaym Vihar Phase 1, New Delhi 110043Email: ajay@blackcoffer.comSkype: asbidyarthyWhatsApp: +91 9717367468Telegram: @asbidyarthy We provide intelligence, accelerate innovation and implement technology with extraordinary breadth and depth global insights into the big data,data-driven dashboards, applications development, and information management for organizations through combining unique, specialist services and high-lvel human expertise. Contact us: hello@blackcoffer.com © All Right Reserved, Blackcoffer(OPC) Pvt. Ltd\n"
     ]
    }
   ],
   "source": []
  },
  {
   "cell_type": "code",
   "execution_count": null,
   "metadata": {},
   "outputs": [],
   "source": []
  }
 ],
 "metadata": {
  "kernelspec": {
   "display_name": "Python 3 (ipykernel)",
   "language": "python",
   "name": "python3"
  },
  "language_info": {
   "codemirror_mode": {
    "name": "ipython",
    "version": 3
   },
   "file_extension": ".py",
   "mimetype": "text/x-python",
   "name": "python",
   "nbconvert_exporter": "python",
   "pygments_lexer": "ipython3",
   "version": "3.9.7"
  }
 },
 "nbformat": 4,
 "nbformat_minor": 2
}
